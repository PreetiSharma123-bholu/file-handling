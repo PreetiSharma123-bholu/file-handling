{
  "nbformat": 4,
  "nbformat_minor": 0,
  "metadata": {
    "colab": {
      "provenance": []
    },
    "kernelspec": {
      "name": "python3",
      "display_name": "Python 3"
    },
    "language_info": {
      "name": "python"
    }
  },
  "cells": [
    {
      "cell_type": "code",
      "execution_count": null,
      "metadata": {
        "id": "MSFvOufHW36-"
      },
      "outputs": [],
      "source": []
    },
    {
      "cell_type": "markdown",
      "source": [
        "Files, exceptional handling, logging and    \n",
        "memory management Questions\n",
        "\n",
        "Ques-1 What is the difference between interpreted and compiled languages?\n",
        "\n",
        "Ans-1 Interpreted -\n",
        "\n",
        ">>Source code is translated line-by-line into machine code while the program is running by an interpreter.\n",
        "\n",
        ">>Usually slower because translation happens during execution.\n",
        "\n",
        ">>Example- Python, JavaScript, Ruby\n",
        "\n",
        "Compiled-\n",
        "\n",
        ">>Source code is translated all at once into machine code (binary) by a compiler before running. The computer then executes that machine code.\n",
        "\n",
        ">>Usually faster because the program is already in machine code before execution.\n",
        "\n",
        ">>C, C++, Rust, Go\n",
        "\n",
        "Ques-2 What is exception handling in Python?\n",
        "\n",
        "Ans-2 Exception handling in Python is a way to manage and respond to errors that occur while a program is running, so that the program doesn’t crash unexpectedly.\n",
        "When Python encounters an error during execution (like dividing by zero, accessing a missing file, or invalid input), it raises an exception.\n",
        "\n",
        "Ques-3 What is the purpose of the finally block in exception handling?\n",
        "\n",
        "Ans-3 In Python’s exception handling, the finally block is used to define code that always executes, no matter what happens.The finally block is typically used for cleanup tasks — actions that must be done before the program ends.\n",
        "\n",
        "Ques-4 What is logging in Python?\n",
        "\n",
        "Ans-4 Logging in Python is the process of recording messages about your program’s execution — such as errors, warnings, or status updates — to help you debug, monitor, and track how your code runs.\n",
        "\n",
        "Quse-5 What is the significance of the __del__ method in Python?\n",
        "\n",
        "Ans-5 In Python, the __del__ method is a destructor — a special method that is called when an object is about to be destroyed.To clean up resources before an object is removed from memory.\n",
        "\n",
        "Ques-6  What is the difference between import and from ... import in Python?\n",
        "\n",
        "Ans-6  import Statement -\n",
        ">>Brings the entire module into your program.\n",
        "\n",
        ">>You access functions or variables with the module name as a prefix.\n",
        "\n",
        "from ... import Statement -\n",
        ">>Brings specific items from a module into your program’s namespace directly.\n",
        "\n",
        ">>You can use them without the module name.\n",
        "\n",
        "Ques-7  How can you handle multiple exceptions in Python?\n",
        "\n",
        "Ans-7 We handle multiple exceptions in python by using these methods-\n",
        "\n",
        "Multiple except blocks- \tDifferent handling for each exception\n",
        "\n",
        "Tuple in except- \tSame handling for multiple exceptions\n",
        "\n",
        "Exception catch-all-\tFallback / logging only\n",
        "\n",
        "With else & finally-\tFor post-success logic & cleanup\n",
        "\n",
        "Ques-8 What is the purpose of the with statement when handling files in Python?\n",
        "\n",
        "Ans-8 In Python, the with statement is used when working with files to ensure that resources are managed automatically — especially making sure the file is closed after you’re done, even if an error occurs.\n",
        "\n",
        "Ques-9 What is the difference between multithreading and multiprocessing?\n",
        "\n",
        "Ans-9 multithreading -\n",
        ">>Definition: Running multiple threads within the same process.\n",
        "\n",
        ">>Memory: All threads share the same memory space.\n",
        "\n",
        ">>Best for: I/O-bound tasks\n",
        "\n",
        ">>Limitation: Python’s Global Interpreter Lock (GIL) allows only one thread to execute Python bytecode at a time\n",
        "\n",
        "multiprocessing -\n",
        ">>Definition: Running multiple processes, each with its own Python interpreter and separate memory space.\n",
        "\n",
        ">>Memory: Each process has its own memory — no sharing.\n",
        "\n",
        ">>Best for: CPU-bound tasks\n",
        "\n",
        ">>Limitation: Higher overhead from creating and managing processes.\n",
        "\n",
        "Ques-10  What are the advantages of using logging in a program?\n",
        "\n",
        "Ans-10 Advantages -\n",
        ">> Logs can be saved to a file, database, or remote server for future analysis — unlike print() which disappears after the program ends.\n",
        "\n",
        ">>You can set different levels like DEBUG, INFO, WARNING, ERROR, and CRITICAL, and filter logs without changing your code.\n",
        "\n",
        ">>Helps track the flow of execution, pinpoint where errors occurred, and understand program behavior over time.\n",
        "\n",
        "Ques-11  What is memory management in Python?\n",
        "\n",
        "Ans-11 Memory management in Python refers to how Python allocates, tracks, and frees memory used by objects during a program’s execution. It’s crucial for efficient use of resources and preventing memory leaks or crashes.\n",
        "\n",
        "Ques-12  What are the basic steps involved in exception handling in Python?\n",
        "\n",
        "Ans-12 Steps-\n",
        ">> try\tRun code that might raise error\n",
        "\n",
        ">>except\tCatch and handle specific errors\n",
        "\n",
        ">>else (opt.)\tRun if no errors occur\n",
        "\n",
        ">>finally(opt.)\tRun always for cleanup\n",
        "\n",
        "Ques-13  Why is memory management important in Python?\n",
        "\n",
        "Ans-13 Memory management keeps Python programs fast, stable, and resource-friendly, allowing you to focus on writing logic instead of worrying about low-level memory details.\n",
        "\n",
        "Ques-14 What is the role of try and except in exception handling?\n",
        "\n",
        "Ans-14 Role of try-\n",
        ">>You put the code that might raise an exception inside the try block.\n",
        "\n",
        ">>Python monitors this code for errors while it runs.\n",
        "\n",
        "Role of except-\n",
        ">>Defines how to handle specific exceptions if they occur inside the try block.\n",
        "\n",
        ">>When an error happens, Python jumps to the matching except block to run the recovery or error-handling code instead of crashing the program.\n",
        "\n",
        "Ques-15  How does Python's garbage collection system work?\n",
        "\n",
        "Ans-15  It primarily works through two mechanisms:\n",
        ">>Reference Counting (Primary Method)\n",
        "Every Python object keeps track of the number of references pointing to it (called the reference count).\n",
        "When an object is created, its reference count is set to 1.\n",
        "\n",
        ">>Garbage Collector for Cyclic References\n",
        "Reference counting alone cannot handle reference cycles (objects referencing each other, preventing their reference counts from reaching zero).\n",
        "\n",
        "Ques-16 What is the purpose of the else block in exception handling?\n",
        "\n",
        "Ans-16 It contains code that should execute only when the try block succeeds without errors.\n",
        "Keeps the try block focused on the code that might fail, while putting the “normal” follow-up code in else.\n",
        "\n",
        "Ques-17 What are the common logging levels in Python?\n",
        "\n",
        "Ans-17 Levels -\n",
        "\n",
        "DEBUG: Most granular info for troubleshooting.\n",
        "\n",
        "INFO: Confirm things are working as expected.\n",
        "\n",
        "WARNING: Something unexpected happened, but program continues.\n",
        "\n",
        "ERROR: A serious problem occurred, usually requiring intervention.\n",
        "\n",
        "CRITICAL: A severe failure that might stop the program.\n",
        "\n",
        "Ques-18  What is the difference between os.fork() and multiprocessing in Python?\n",
        "\n",
        "Ans-18 os.fork()-\n",
        ">>A low-level system call available on Unix/Linux systems that creates a new child process by duplicating the current process.\n",
        "\n",
        ">>After fork(), you have two processes — the parent and the child — both running the same program but with different process IDs.\n",
        "\n",
        "multiprocessing-\n",
        ">>A high-level Python library that provides a cross-platform API for creating and managing separate processes.\n",
        "\n",
        ">>You create Process objects representing separate processes that run target functions. The module also provides tools for IPC.\n",
        "\n",
        "Ques-19  What is the importance of closing a file in Python?\n",
        "\n",
        "Ans-19 Importance of closing a file in Python-\n",
        ">>All data is properly saved\n",
        "\n",
        ">>System resources are freed\n",
        "\n",
        ">>Prevents data corruption\n",
        "\n",
        ">>Avoids hitting OS limits\n",
        "\n",
        ">>Signals end of file usage\n",
        "\n",
        "Ques-20 What is the difference between file.read() and file.readline() in Python?\n",
        "\n",
        "Ans-20 file.read()-\n",
        ">>Reads the entire content of the file.\n",
        "\n",
        ">>Returns a single string containing everything.\n",
        "\n",
        "file.readline()-\n",
        ">>Reads one line at a time from the file.\n",
        "\n",
        ">>Returns a single string containing the current line, including the newline character \\n at the end.\n",
        "\n",
        "Ques-21 What is the logging module in Python used for?\n",
        "\n",
        "Ans-21 Record program execution details – Helps you see what’s happening while your program runs.\n",
        "\n",
        "Debugging and troubleshooting – Lets you find where and why errors occur without stopping the program.\n",
        "\n",
        "Keep a permanent record – Can save logs to a file for later review.\n",
        "\n",
        "Ques-22 What is the os module in Python used for in file handling?\n",
        "\n",
        "Ans-22 The os module is powerful for managing files and directories at the OS level, but for reading/writing file content, you typically use Python’s built-in open() function.\n",
        "\n",
        "Ques-23 What are the challenges associated with memory management in Python?\n",
        "\n",
        "Ans-23 Reference cycles\tDelay memory release\n",
        "\n",
        "GIL limitations\tAffects CPU-bound parallel memory usage\n",
        "\n",
        "Fragmentation\tWastes memory space\n",
        "\n",
        "High object overhead\tIncreases memory footprint\n",
        "\n",
        "Large object retention\tCauses memory bloat\n",
        "\n",
        "Ques-24 How do you raise an exception manually in Python?\n",
        "\n",
        "Ans-24 In Python, you can raise an exception manually using the raise statement, followed by the exception you want to trigger.\n",
        "\n",
        "Ques-25 Why is it important to use multithreading in certain applications?\n",
        "\n",
        "Ans-25 Using multithreading is important in certain applications because it helps improve performance, responsiveness, and resource utilization — especially in programs that spend a lot of time waiting for external operations."
      ],
      "metadata": {
        "id": "J6d8ccjSW7P2"
      }
    },
    {
      "cell_type": "code",
      "source": [
        "#Practical Questions\n",
        "#Ques-1  How can you open a file for writing in Python and write a string to it?\n",
        "with open(\"file.txt\",\"w\") as file:\n",
        "  file.write(\"hello bholu\\n\")\n",
        "  file.write(\"hello bubu\\n\")\n",
        "  file.close()\n"
      ],
      "metadata": {
        "id": "VjizSWJqnpH6"
      },
      "execution_count": 2,
      "outputs": []
    },
    {
      "cell_type": "code",
      "source": [
        "#Ques-2  Write a Python program to read the contents of a file and print each line?\n",
        "with open(\"file.txt\",\"r\") as file:\n",
        "  for line in file:\n",
        "    print(line)"
      ],
      "metadata": {
        "colab": {
          "base_uri": "https://localhost:8080/"
        },
        "id": "HAJmatV41jCn",
        "outputId": "709bced2-27a4-48ef-90e1-c2648ded35ea"
      },
      "execution_count": 4,
      "outputs": [
        {
          "output_type": "stream",
          "name": "stdout",
          "text": [
            "hello bholu\n",
            "\n",
            "hello bubu\n",
            "\n"
          ]
        }
      ]
    },
    {
      "cell_type": "code",
      "source": [
        "#Ques-3  How would you handle a case where the file doesn't exist while trying to open it for reading?\n",
        "try:\n",
        "  with open(\"files.txt\",\"r\") as file:\n",
        "    content=file.read()\n",
        "    print(content)\n",
        "except FileNotFoundError:\n",
        "  print(\"file not found\")"
      ],
      "metadata": {
        "colab": {
          "base_uri": "https://localhost:8080/"
        },
        "id": "9a7IqVEa3I4m",
        "outputId": "9bfadda3-4d9d-416e-9659-69afb5e1e445"
      },
      "execution_count": 7,
      "outputs": [
        {
          "output_type": "stream",
          "name": "stdout",
          "text": [
            "file not found\n"
          ]
        }
      ]
    },
    {
      "cell_type": "code",
      "source": [
        "#Ques-4  Write a Python script that reads from one file and writes its content to another file.\n",
        "try:\n",
        "    with open(\"source.txt\", \"r\") as source_file:\n",
        "        content = source_file.read()\n",
        "\n",
        "    with open(\"destination.txt\", \"w\") as dest_file:\n",
        "        dest_file.write(content)\n",
        "\n",
        "    print(\"File copied successfully.\")\n",
        "\n",
        "except FileNotFoundError:\n",
        "    print(\"Error: The source file does not exist.\")\n"
      ],
      "metadata": {
        "colab": {
          "base_uri": "https://localhost:8080/"
        },
        "id": "nZoTy0gf49_o",
        "outputId": "cb1cca93-92a2-41a5-8c9f-2ccf99e51c51"
      },
      "execution_count": 8,
      "outputs": [
        {
          "output_type": "stream",
          "name": "stdout",
          "text": [
            "Error: The source file does not exist.\n"
          ]
        }
      ]
    },
    {
      "cell_type": "code",
      "source": [
        "#Ques-5  How would you catch and handle division by zero error in Python?\n",
        "try:\n",
        "  result=10/0\n",
        "  print(result)\n",
        "except ZeroDivisionError:\n",
        "  print(\"division by zero error\")"
      ],
      "metadata": {
        "colab": {
          "base_uri": "https://localhost:8080/"
        },
        "id": "HLCCDbNb5nHd",
        "outputId": "6025e8c4-512b-4746-e83d-efb53282c62f"
      },
      "execution_count": 9,
      "outputs": [
        {
          "output_type": "stream",
          "name": "stdout",
          "text": [
            "division by zero error\n"
          ]
        }
      ]
    },
    {
      "cell_type": "code",
      "source": [
        "#Ques-6  Write a Python program that logs an error message to a log file when a division by zero exception occurs.\n",
        "import logging\n",
        "\n",
        "logging.basicConfig(filename=\"error.log\", level=logging.ERROR)\n",
        "\n",
        "try:\n",
        "    x = int(input(\"Enter a number: \"))\n",
        "    print(10 / x)\n",
        "except ZeroDivisionError:\n",
        "    logging.error(\"Division by zero error\")\n",
        "    print(\"Cannot divide by zero\")"
      ],
      "metadata": {
        "colab": {
          "base_uri": "https://localhost:8080/"
        },
        "id": "HnIzvE2R6IgT",
        "outputId": "565b86e7-781f-4dd5-ebe8-b0907285cba7"
      },
      "execution_count": 12,
      "outputs": [
        {
          "name": "stdout",
          "output_type": "stream",
          "text": [
            "Enter a number: 0\n"
          ]
        },
        {
          "output_type": "stream",
          "name": "stderr",
          "text": [
            "ERROR:root:Division by zero error\n"
          ]
        },
        {
          "output_type": "stream",
          "name": "stdout",
          "text": [
            "Cannot divide by zero\n"
          ]
        }
      ]
    },
    {
      "cell_type": "code",
      "source": [
        "#Ques-7 How do you log information at different levels (INFO, ERROR, WARNING) in Python using the logging module.\n",
        "import logging\n",
        "\n",
        "logging.basicConfig(filename=\"app.log\", level=logging.DEBUG)\n",
        "\n",
        "logging.info(\"This is an info message\")\n",
        "logging.warning(\"This is a warning message\")\n",
        "logging.error(\"This is an error message\")\n"
      ],
      "metadata": {
        "colab": {
          "base_uri": "https://localhost:8080/"
        },
        "id": "93xjJldS9CMC",
        "outputId": "17c37f22-1203-40bd-8dbc-d9e3e95e86da"
      },
      "execution_count": 13,
      "outputs": [
        {
          "output_type": "stream",
          "name": "stderr",
          "text": [
            "WARNING:root:This is a warning message\n",
            "ERROR:root:This is an error message\n"
          ]
        }
      ]
    },
    {
      "cell_type": "code",
      "source": [
        "#Ques-8  Write a program to handle a file opening error using exception handling.\n",
        "try:\n",
        "    file = open(\"myfile.txt\", \"r\")  # Try to open file\n",
        "    content = file.read()\n",
        "    print(content)\n",
        "    file.close()\n",
        "except FileNotFoundError:\n",
        "    print(\"Error: File not found!\")\n"
      ],
      "metadata": {
        "colab": {
          "base_uri": "https://localhost:8080/"
        },
        "id": "aXn2V2Sn9jKO",
        "outputId": "e8199560-64a2-4ad7-85c0-5b3557ec88b4"
      },
      "execution_count": 14,
      "outputs": [
        {
          "output_type": "stream",
          "name": "stdout",
          "text": [
            "Error: File not found!\n"
          ]
        }
      ]
    },
    {
      "cell_type": "code",
      "source": [
        "#Ques-9  How can you read a file line by line and store its content in a list in Python?\n",
        "lines = []\n",
        "with open(\"file.txt\", \"r\") as file:\n",
        "    for line in file:\n",
        "        lines.append(line.strip())\n",
        "\n",
        "print(lines)\n",
        "\n"
      ],
      "metadata": {
        "colab": {
          "base_uri": "https://localhost:8080/"
        },
        "id": "nZYzSYPE-CQe",
        "outputId": "2e3eb833-2e69-494a-9ccc-fcca846cb680"
      },
      "execution_count": 18,
      "outputs": [
        {
          "output_type": "stream",
          "name": "stdout",
          "text": [
            "['hello bholu', 'hello bubu']\n"
          ]
        }
      ]
    },
    {
      "cell_type": "code",
      "source": [
        "#Ques-10 How can you append data to an existing file in Python?\n",
        "with open(\"file.txt\", \"a\") as file:\n",
        "    file.write(\"my everything.\\n\")\n"
      ],
      "metadata": {
        "id": "6DpKNS_i-_2S"
      },
      "execution_count": 20,
      "outputs": []
    },
    {
      "cell_type": "code",
      "source": [
        "#Ques-11 Write a Python program that uses a try-except block to handle an error when attempting to access a\n",
        "#dictionary key that doesn't exist.\n",
        "my_dict = {\"name\": \"bholu\", \"age\": 21}\n",
        "\n",
        "try:\n",
        "    print(my_dict[\"city\"])\n",
        "except KeyError:\n",
        "    print(\"Error: The key does not exist in the dictionary.\")\n"
      ],
      "metadata": {
        "colab": {
          "base_uri": "https://localhost:8080/"
        },
        "id": "-qvxA4y4_ZuN",
        "outputId": "b2268103-9f1b-44ab-b4f7-b8896f65c62b"
      },
      "execution_count": 21,
      "outputs": [
        {
          "output_type": "stream",
          "name": "stdout",
          "text": [
            "Error: The key does not exist in the dictionary.\n"
          ]
        }
      ]
    },
    {
      "cell_type": "code",
      "source": [
        "#Ques-12  Write a program that demonstrates using multiple except blocks to handle different types of exceptions.\n",
        "try:\n",
        "    num = int(input(\"Enter a number: \"))\n",
        "    result = 10 / num\n",
        "    print(\"Result:\", result)\n",
        "\n",
        "except ValueError:\n",
        "    print(\"Error: Please enter a valid integer.\")\n",
        "\n",
        "except ZeroDivisionError:\n",
        "    print(\"Error: Cannot divide by zero.\")\n",
        "\n",
        "except Exception as e:\n",
        "    print(\"An unexpected error occurred:\", e)\n"
      ],
      "metadata": {
        "colab": {
          "base_uri": "https://localhost:8080/"
        },
        "id": "9fbxMzoXIyru",
        "outputId": "81433612-ab00-4176-8ac2-bf41c44d9104"
      },
      "execution_count": 23,
      "outputs": [
        {
          "output_type": "stream",
          "name": "stdout",
          "text": [
            "Enter a number: 0\n",
            "Error: Cannot divide by zero.\n"
          ]
        }
      ]
    },
    {
      "cell_type": "code",
      "source": [
        "#Ques-13 How would you check if a file exists before attempting to read it in Python?\n",
        "import os\n",
        "\n",
        "filename = \"example.txt\"\n",
        "\n",
        "if os.path.exists(filename):\n",
        "    with open(filename, \"r\") as file:\n",
        "        print(file.read())\n",
        "else:\n",
        "    print(\"File does not exist.\")\n"
      ],
      "metadata": {
        "colab": {
          "base_uri": "https://localhost:8080/"
        },
        "id": "7IJ_rQicJKlj",
        "outputId": "5b9b3d27-d3ea-478a-c465-5f9085b2b3ab"
      },
      "execution_count": 24,
      "outputs": [
        {
          "output_type": "stream",
          "name": "stdout",
          "text": [
            "File does not exist.\n"
          ]
        }
      ]
    },
    {
      "cell_type": "code",
      "source": [
        "#Ques-14 Write a program that uses the logging module to log both informational and error messages.\n",
        "import logging\n",
        "\n",
        "logging.basicConfig(filename=\"app.log\", level=logging.INFO)\n",
        "\n",
        "logging.info(\"this is an info message\")\n",
        "logging.error(\"this is an error message\")"
      ],
      "metadata": {
        "colab": {
          "base_uri": "https://localhost:8080/"
        },
        "id": "Szqy1Ad7NY-E",
        "outputId": "e41699d8-7260-408a-fa89-9d7970a3f8b9"
      },
      "execution_count": 26,
      "outputs": [
        {
          "output_type": "stream",
          "name": "stderr",
          "text": [
            "ERROR:root:this is an error message\n"
          ]
        }
      ]
    },
    {
      "cell_type": "code",
      "source": [
        "#Ques-15 Write a Python program that prints the content of a file and handles the case when the file is empty.\n",
        "try:\n",
        "    with open(\"example.txt\", \"r\") as file:\n",
        "        content = file.read()\n",
        "        if content.strip():\n",
        "            print(content)\n",
        "        else:\n",
        "            print(\"The file is empty.\")\n",
        "except FileNotFoundError:\n",
        "    print(\"Error: File not found!\")\n"
      ],
      "metadata": {
        "colab": {
          "base_uri": "https://localhost:8080/"
        },
        "id": "-iDCwJsbOi2I",
        "outputId": "efd0439c-31de-4ea6-eccd-cdf4db589a38"
      },
      "execution_count": 29,
      "outputs": [
        {
          "output_type": "stream",
          "name": "stdout",
          "text": [
            "Error: File not found!\n"
          ]
        }
      ]
    },
    {
      "cell_type": "code",
      "source": [
        "#Ques-16 Demonstrate how to use memory profiling to check the memory usage of a small program.\n",
        "!pip install memory_profiler\n"
      ],
      "metadata": {
        "colab": {
          "base_uri": "https://localhost:8080/"
        },
        "id": "1EGan9RtO9AP",
        "outputId": "ee31c0e9-0ea0-434d-df75-a2cc613af6b6"
      },
      "execution_count": 32,
      "outputs": [
        {
          "output_type": "stream",
          "name": "stdout",
          "text": [
            "Collecting memory_profiler\n",
            "  Downloading memory_profiler-0.61.0-py3-none-any.whl.metadata (20 kB)\n",
            "Requirement already satisfied: psutil in /usr/local/lib/python3.11/dist-packages (from memory_profiler) (5.9.5)\n",
            "Downloading memory_profiler-0.61.0-py3-none-any.whl (31 kB)\n",
            "Installing collected packages: memory_profiler\n",
            "Successfully installed memory_profiler-0.61.0\n"
          ]
        }
      ]
    },
    {
      "cell_type": "code",
      "source": [
        "from memory_profiler import memory_usage\n",
        "\n",
        "def create_list():\n",
        "    big_list = [i for i in range(1_000_000)]\n",
        "    return big_list\n",
        "\n",
        "mem_usage = memory_usage(create_list)\n",
        "print(f\"Memory usage: {mem_usage} MiB\")\n",
        "\n"
      ],
      "metadata": {
        "colab": {
          "base_uri": "https://localhost:8080/"
        },
        "id": "4NwyJtRaQall",
        "outputId": "f03bbdf2-da84-4d40-8fb3-b43aa1bfe8fc"
      },
      "execution_count": 34,
      "outputs": [
        {
          "output_type": "stream",
          "name": "stdout",
          "text": [
            "Memory usage: [156.63671875, 156.89453125, 164.3515625, 172.85546875, 181.10546875, 189.35546875, 195.05078125, 186.05078125, 177.09765625, 172.16015625, 172.16015625] MiB\n"
          ]
        }
      ]
    },
    {
      "cell_type": "code",
      "source": [
        "#Ques-17 Write a Python program to create and write a list of numbers to a file, one number per line.\n",
        "numbers = [1, 2, 3, 4, 5]\n",
        "\n",
        "with open(\"numbers.txt\", \"w\") as file:\n",
        "    for num in numbers:\n",
        "        file.write(f\"{num}\\n\")\n",
        "\n",
        "print(\"Numbers written to numbers.txt\")\n"
      ],
      "metadata": {
        "colab": {
          "base_uri": "https://localhost:8080/"
        },
        "id": "LHB9XdNQQ6h_",
        "outputId": "0c65f88e-d590-42bf-e0ae-4a218cf6f892"
      },
      "execution_count": 35,
      "outputs": [
        {
          "output_type": "stream",
          "name": "stdout",
          "text": [
            "Numbers written to numbers.txt\n"
          ]
        }
      ]
    },
    {
      "cell_type": "code",
      "source": [
        "#Ques-18  How would you implement a basic logging setup that logs to a file with rotation after 1MB?\n",
        "import logging\n",
        "from logging.handlers import RotatingFileHandler\n",
        "\n",
        "logger = logging.getLogger()\n",
        "logger.setLevel(logging.DEBUG)\n",
        "\n",
        "handler = RotatingFileHandler(\"app.log\", maxBytes=1_000_000, backupCount=3)\n",
        "logger.addHandler(handler)\n",
        "\n",
        "logger.info(\"This is a log message.\")\n"
      ],
      "metadata": {
        "colab": {
          "base_uri": "https://localhost:8080/"
        },
        "id": "O4d5PY2hRTHp",
        "outputId": "1e1109d5-9658-400f-9f8b-7c2bbfdf5689"
      },
      "execution_count": 37,
      "outputs": [
        {
          "output_type": "stream",
          "name": "stderr",
          "text": [
            "INFO:root:This is a log message.\n"
          ]
        }
      ]
    },
    {
      "cell_type": "code",
      "source": [
        "#Ques-19 Write a program that handles both IndexError and KeyError using a try-except block.\n",
        "my_list = [10, 20, 30]\n",
        "my_dict = {\"a\": 1, \"b\": 2}\n",
        "\n",
        "try:\n",
        "    print(my_list[5])\n",
        "\n",
        "    print(my_dict[\"c\"])\n",
        "\n",
        "except IndexError:\n",
        "    print(\"Error: List index out of range.\")\n",
        "\n",
        "except KeyError:\n",
        "    print(\"Error: Key not found in dictionary.\")\n"
      ],
      "metadata": {
        "colab": {
          "base_uri": "https://localhost:8080/"
        },
        "id": "d_blaF7uSJfE",
        "outputId": "17fc8f9f-426f-4481-9c45-7ec623c10eb5"
      },
      "execution_count": 38,
      "outputs": [
        {
          "output_type": "stream",
          "name": "stdout",
          "text": [
            "Error: List index out of range.\n"
          ]
        }
      ]
    },
    {
      "cell_type": "code",
      "source": [
        "#Ques-20  How would you open a file and read its contents using a context manager in Python?\n",
        "with open(\"file.txt\", \"r\") as file:\n",
        "    content = file.read()\n",
        "    print(content)\n"
      ],
      "metadata": {
        "colab": {
          "base_uri": "https://localhost:8080/"
        },
        "id": "FqJLZlxISdsk",
        "outputId": "d3fce0ea-2d19-472c-9df8-8ed95b54baa5"
      },
      "execution_count": 40,
      "outputs": [
        {
          "output_type": "stream",
          "name": "stdout",
          "text": [
            "hello bholu\n",
            "hello bubu\n",
            "This line will be added at the end.\n",
            "my everything.\n",
            "\n"
          ]
        }
      ]
    },
    {
      "cell_type": "code",
      "source": [
        "#Ques-21 Write a Python program that reads a file and prints the number of occurrences of a specific word.\n",
        "word_to_search = input(\"Enter the word to search: \").lower()\n",
        "\n",
        "try:\n",
        "    with open(\"example.txt\", \"r\") as file:\n",
        "        content = file.read().lower()\n",
        "        count = content.split().count(word_to_search)\n",
        "        print(f\"The word '{word_to_search}' occurs {count} times in the file.\")\n",
        "except FileNotFoundError:\n",
        "    print(\"Error: The file does not exist.\")\n"
      ],
      "metadata": {
        "colab": {
          "base_uri": "https://localhost:8080/"
        },
        "id": "Xj97q1xJbZ1S",
        "outputId": "2769c00f-f681-43df-f6f8-006578ad1af9"
      },
      "execution_count": 41,
      "outputs": [
        {
          "output_type": "stream",
          "name": "stdout",
          "text": [
            "Enter the word to search: bholu\n",
            "Error: The file does not exist.\n"
          ]
        }
      ]
    },
    {
      "cell_type": "code",
      "source": [
        "#Ques-22 How can you check if a file is empty before attempting to read its contents?\n",
        "import os\n",
        "\n",
        "filename = \"example.txt\"\n",
        "\n",
        "if os.path.exists(filename) and os.path.getsize(filename) > 0:\n",
        "    with open(filename, \"r\") as file:\n",
        "        print(file.read())\n",
        "else:\n",
        "    print(\"The file is empty or does not exist.\")\n"
      ],
      "metadata": {
        "colab": {
          "base_uri": "https://localhost:8080/"
        },
        "id": "XpeyMNSSb0x8",
        "outputId": "b6d79a43-74c6-4ceb-e31a-5ce452bbadeb"
      },
      "execution_count": 42,
      "outputs": [
        {
          "output_type": "stream",
          "name": "stdout",
          "text": [
            "The file is empty or does not exist.\n"
          ]
        }
      ]
    },
    {
      "cell_type": "code",
      "source": [
        "#Ques- 23 Write a Python program that writes to a log file when an error occurs during file handling.\n",
        "import logging\n",
        "\n",
        "logging.basicConfig(filename=\"file_errors.log\", level=logging.ERROR)\n",
        "\n",
        "try:\n",
        "    with open(\"example.txt\", \"r\") as file:\n",
        "        content = file.read()\n",
        "        print(content)\n",
        "except FileNotFoundError:\n",
        "    logging.error(\"File not found error occurred.\")\n",
        "    print(\"Error: The file does not exist.\")\n",
        "except PermissionError:\n",
        "    logging.error(\"Permission denied error occurred.\")\n",
        "    print(\"Error: You don't have permission to read this file.\")\n"
      ],
      "metadata": {
        "colab": {
          "base_uri": "https://localhost:8080/"
        },
        "id": "KRH5wvz5cBTz",
        "outputId": "1e80ce77-1ce4-4f28-b959-d417e5d4c9d2"
      },
      "execution_count": 43,
      "outputs": [
        {
          "output_type": "stream",
          "name": "stderr",
          "text": [
            "ERROR:root:File not found error occurred.\n"
          ]
        },
        {
          "output_type": "stream",
          "name": "stdout",
          "text": [
            "Error: The file does not exist.\n"
          ]
        }
      ]
    }
  ]
}